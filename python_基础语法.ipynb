{
 "cells": [
  {
   "cell_type": "markdown",
   "metadata": {},
   "source": [
    "## 字符串"
   ]
  },
  {
   "cell_type": "markdown",
   "metadata": {},
   "source": [
    "- Python 中单引号 `'` 和双引号 `\"` 使用完全相同。\n",
    "- 使用三引号 (`'''` 或 `\"\"\"`) 可以指定一个多行字符串。\n",
    "- 转义符 `\\`。\n",
    "- 反斜杠可以用来转义，使用 `r` 可以让反斜杠不发生转义。如 `r\"this is a line with \\n\"` 则 `\\n` 会显示，并不是换行。\n",
    "- 按字符面义级联字符串，如 `\"this \" \"is \" \"string\"` 会被自动转换为 `this is string`。\n",
    "- 字符串可以用 `+` 运算符连接在一起，用 `*` 运算符重复。\n",
    "- Python 中的字符串有两种索引方式，从左往右以 `0` 开始，从右往左以 `-1` 开始。\n",
    "- Python 中的字符串不能改变。\n",
    "- Python 没有单独的字符类型，一个字符串就是长度为 1 的字符串。\n",
    "- 字符串切片 `str[start:end]`，其中 start（包含）是切片开始的索引，end（不包含）是切片结束的索引。\n",
    "- 字符串的切片可以加上步长参数 `step`，语法格式如下：`str[start:end:step]`。"
   ]
  },
  {
   "cell_type": "code",
   "execution_count": 1,
   "metadata": {},
   "outputs": [
    {
     "name": "stdout",
     "output_type": "stream",
     "text": [
      "123456789\n",
      "12345678\n",
      "1\n",
      "345\n",
      "3456789\n",
      "24\n",
      "123456789123456789\n",
      "123456789你好\n",
      "------------------------------\n",
      "hello\n",
      "runoob\n",
      "hello\\nrunoob\n"
     ]
    }
   ],
   "source": [
    "#!/usr/bin/python3\n",
    " \n",
    "str='123456789'\n",
    " \n",
    "print(str)                 # 输出字符串\n",
    "print(str[0:-1])           # 输出第一个到倒数第二个的所有字符\n",
    "print(str[0])              # 输出字符串第一个字符\n",
    "print(str[2:5])            # 输出从第三个开始到第六个的字符（不包含）\n",
    "print(str[2:])             # 输出从第三个开始后的所有字符\n",
    "print(str[1:5:2])          # 输出从第二个开始到第五个且每隔一个的字符（步长为2）\n",
    "print(str * 2)             # 输出字符串两次\n",
    "print(str + '你好')         # 连接字符串\n",
    " \n",
    "print('------------------------------')\n",
    " \n",
    "print('hello\\nrunoob')      # 使用反斜杠(\\)+n转义特殊字符\n",
    "print(r'hello\\nrunoob')     # 在字符串前面添加一个 r，表示原始字符串，不会发生转义"
   ]
  },
  {
   "cell_type": "markdown",
   "metadata": {},
   "source": [
    "## print输出"
   ]
  },
  {
   "cell_type": "markdown",
   "metadata": {},
   "source": [
    "- 不换行输出"
   ]
  },
  {
   "cell_type": "code",
   "execution_count": 2,
   "metadata": {},
   "outputs": [
    {
     "name": "stdout",
     "output_type": "stream",
     "text": [
      "a\n",
      "b\n",
      "---------\n",
      "a b \n"
     ]
    }
   ],
   "source": [
    "#!/usr/bin/python3\n",
    " \n",
    "x=\"a\"\n",
    "y=\"b\"\n",
    "# 换行输出\n",
    "print( x )\n",
    "print( y )\n",
    " \n",
    "print('---------')\n",
    "# 不换行输出\n",
    "print( x, end=\" \" )\n",
    "print( y, end=\" \" )\n",
    "print()"
   ]
  }
 ],
 "metadata": {
  "kernelspec": {
   "display_name": "Python 3",
   "language": "python",
   "name": "python3"
  },
  "language_info": {
   "codemirror_mode": {
    "name": "ipython",
    "version": 3
   },
   "file_extension": ".py",
   "mimetype": "text/x-python",
   "name": "python",
   "nbconvert_exporter": "python",
   "pygments_lexer": "ipython3",
   "version": "3.13.0"
  }
 },
 "nbformat": 4,
 "nbformat_minor": 2
}
