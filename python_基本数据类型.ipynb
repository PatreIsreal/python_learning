{
 "cells": [
  {
   "cell_type": "markdown",
   "metadata": {},
   "source": [
    "**Python3 中常见的数据类型有：**\n",
    "\n",
    "- Number（数字）\n",
    "- String（字符串）\n",
    "- bool（布尔类型）\n",
    "- List（列表）\n",
    "- Tuple（元组）\n",
    "- Set（集合）\n",
    "- Dictionary（字典）\n",
    "\n",
    "**Python3 的六个标准数据类型中：**\n",
    "\n",
    "- **不可变数据（3 个）**：Number（数字）、String（字符串）、Tuple（元组）；\n",
    "- **可变数据（3 个）**：List（列表）、Dictionary（字典）、Set（集合）。\n",
    "\n",
    "此外还有一些高级的数据类型，如：字节数组类型（bytes）。"
   ]
  },
  {
   "cell_type": "markdown",
   "metadata": {},
   "source": [
    "## 数字"
   ]
  },
  {
   "cell_type": "markdown",
   "metadata": {},
   "source": [
    "**Python3 支持** `int`, `float`, `bool`, `complex`（复数）。"
   ]
  },
  {
   "cell_type": "code",
   "execution_count": 1,
   "metadata": {},
   "outputs": [
    {
     "name": "stdout",
     "output_type": "stream",
     "text": [
      "<class 'int'> <class 'float'> <class 'bool'> <class 'complex'>\n"
     ]
    }
   ],
   "source": [
    "a, b, c, d = 20, 5.5, True, 4+3j\n",
    "print(type(a), type(b), type(c), type(d))\n"
   ]
  },
  {
   "cell_type": "markdown",
   "metadata": {},
   "source": [
    "**isinstance和type的区别在于：**\n",
    "\n",
    "- `type()` 不会认为子类是父类类型。\n",
    "- `isinstance()` 会认为子类是父类类型。"
   ]
  },
  {
   "cell_type": "markdown",
   "metadata": {},
   "source": [
    "注意：Python3 中，bool 是 int 的子类，True 和 False 可以和数字相加， True==1、False==0 会返回 True，但可以通过 is 来判断类型。"
   ]
  },
  {
   "cell_type": "raw",
   "metadata": {
    "vscode": {
     "languageId": "powershell"
    }
   },
   "source": [
    ">>> issubclass(bool, int) \n",
    "True\n",
    ">>> True==1\n",
    "True\n",
    ">>> False==0\n",
    "True\n",
    ">>> True+1\n",
    "2\n",
    ">>> False+1\n",
    "1\n",
    ">>> 1 is True\n",
    "False\n",
    ">>> 0 is False\n",
    "False\n"
   ]
  },
  {
   "cell_type": "markdown",
   "metadata": {},
   "source": [
    "## String(字符串)"
   ]
  },
  {
   "cell_type": "markdown",
   "metadata": {},
   "source": [
    "**Python中的字符串用单引号** `'` **或双引号** `\"` **括起，同时使用反斜杠** `\\` **转义特殊字符。**"
   ]
  },
  {
   "cell_type": "code",
   "execution_count": 3,
   "metadata": {},
   "outputs": [
    {
     "name": "stdout",
     "output_type": "stream",
     "text": [
      "Runoob\n",
      "Runoo\n",
      "R\n",
      "noo\n",
      "noob\n",
      "RunoobRunoob\n",
      "RunoobTEST\n"
     ]
    }
   ],
   "source": [
    "#!/usr/bin/python3\n",
    "\n",
    "str = 'Runoob'  # 定义一个字符串变量\n",
    "\n",
    "print(str)           # 打印整个字符串\n",
    "print(str[0:-1])     # 打印字符串第一个到倒数第二个字符（不包含倒数第一个字符）\n",
    "print(str[0])        # 打印字符串的第一个字符\n",
    "print(str[2:5])      # 打印字符串第三到第五个字符（包含第五个字符）\n",
    "print(str[2:])       # 打印字符串从第三个字符开始到末尾\n",
    "print(str * 2)       # 打印字符串两次\n",
    "print(str + \"TEST\")  # 打印字符串和\"TEST\"拼接在一起"
   ]
  },
  {
   "cell_type": "code",
   "execution_count": 4,
   "metadata": {},
   "outputs": [
    {
     "name": "stdout",
     "output_type": "stream",
     "text": [
      "P n\n",
      "n P\n"
     ]
    }
   ],
   "source": [
    "word = 'Python'\n",
    "print(word[0], word[5])\n",
    "\n",
    "print(word[-1], word[-6])\n"
   ]
  },
  {
   "cell_type": "markdown",
   "metadata": {},
   "source": [
    "**与 C 字符串不同的是，Python 字符串不能被改变。向一个索引位置赋值，例如** `word[0] = 'm'` **会导致错误。**\n",
    "\n",
    "**注意：**\n",
    "\n",
    "- 1、反斜杠可以用来转义，使用可以让反斜杠不发生转义。\n",
    "- 2、字符串可以用 `+` 运算符连接在一起，用 `*` 运算符重复。\n",
    "- 3、Python中的字符串有两种索引方式，从左往右以0开始，从右往左以-1开始。\n",
    "- 4、Python中的字符串不能改变。"
   ]
  },
  {
   "cell_type": "markdown",
   "metadata": {},
   "source": [
    "## 布尔类型(bool)"
   ]
  },
  {
   "cell_type": "code",
   "execution_count": 5,
   "metadata": {},
   "outputs": [
    {
     "name": "stdout",
     "output_type": "stream",
     "text": [
      "<class 'bool'>\n",
      "<class 'bool'>\n",
      "1\n",
      "0\n",
      "False\n",
      "True\n",
      "False\n",
      "True\n",
      "False\n",
      "True\n",
      "False\n",
      "True\n",
      "False\n",
      "True\n",
      "True\n",
      "False\n",
      "This will always print\n",
      "This will also always print\n",
      "x is non-zero and thus True in a boolean context\n"
     ]
    }
   ],
   "source": [
    "# 布尔类型的值和类型\n",
    "a = True\n",
    "b = False\n",
    "print(type(a))  # <class 'bool'>\n",
    "print(type(b))  # <class 'bool'>\n",
    "\n",
    "# 布尔类型的整数表现\n",
    "print(int(True))   # 1\n",
    "print(int(False))  # 0\n",
    "\n",
    "# 使用 bool() 函数进行转换\n",
    "print(bool(0))         # False\n",
    "print(bool(42))        # True\n",
    "print(bool(''))        # False\n",
    "print(bool('Python'))  # True\n",
    "print(bool([]))        # False\n",
    "print(bool([1, 2, 3])) # True\n",
    "\n",
    "# 布尔逻辑运算\n",
    "print(True and False)  # False\n",
    "print(True or False)   # True\n",
    "print(not True)        # False\n",
    "\n",
    "# 布尔比较运算\n",
    "print(5 > 3)  # True\n",
    "print(2 == 2) # True\n",
    "print(7 < 4)  # False\n",
    "\n",
    "# 布尔值在控制流中的应用\n",
    "if True:\n",
    "    print(\"This will always print\")\n",
    "    \n",
    "if not False:\n",
    "    print(\"This will also always print\")\n",
    "    \n",
    "x = 10\n",
    "if x:\n",
    "    print(\"x is non-zero and thus True in a boolean context\")"
   ]
  },
  {
   "cell_type": "markdown",
   "metadata": {},
   "source": [
    "**注意：在 Python 中，所有非零的数字和非空的字符串、列表、元组等数据类型都被视为** `True` **，只有** `0` **、空字符串、空列表、空元组等被视为** `False`**。因此，在进行布尔类型转换时，需要注意数据类型的真假性。**"
   ]
  }
 ],
 "metadata": {
  "kernelspec": {
   "display_name": "Python 3",
   "language": "python",
   "name": "python3"
  },
  "language_info": {
   "codemirror_mode": {
    "name": "ipython",
    "version": 3
   },
   "file_extension": ".py",
   "mimetype": "text/x-python",
   "name": "python",
   "nbconvert_exporter": "python",
   "pygments_lexer": "ipython3",
   "version": "3.13.0b1"
  }
 },
 "nbformat": 4,
 "nbformat_minor": 2
}
