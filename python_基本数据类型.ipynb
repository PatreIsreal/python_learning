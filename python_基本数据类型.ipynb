{
 "cells": [
  {
   "cell_type": "markdown",
   "metadata": {},
   "source": [
    "**Python3 中常见的数据类型有：**\n",
    "\n",
    "- Number（数字）\n",
    "- String（字符串）\n",
    "- bool（布尔类型）\n",
    "- List（列表）\n",
    "- Tuple（元组）\n",
    "- Set（集合）\n",
    "- Dictionary（字典）\n",
    "\n",
    "**Python3 的六个标准数据类型中：**\n",
    "\n",
    "- **不可变数据（3 个）**：Number（数字）、String（字符串）、Tuple（元组）；\n",
    "- **可变数据（3 个）**：List（列表）、Dictionary（字典）、Set（集合）。\n",
    "\n",
    "此外还有一些高级的数据类型，如：字节数组类型（bytes）。"
   ]
  },
  {
   "cell_type": "markdown",
   "metadata": {},
   "source": [
    "## 数字"
   ]
  },
  {
   "cell_type": "markdown",
   "metadata": {},
   "source": [
    "**Python3 支持** `int`, `float`, `bool`, `complex`（复数）。"
   ]
  },
  {
   "cell_type": "code",
   "execution_count": 1,
   "metadata": {},
   "outputs": [
    {
     "name": "stdout",
     "output_type": "stream",
     "text": [
      "<class 'int'> <class 'float'> <class 'bool'> <class 'complex'>\n"
     ]
    }
   ],
   "source": [
    "a, b, c, d = 20, 5.5, True, 4+3j\n",
    "print(type(a), type(b), type(c), type(d))\n"
   ]
  },
  {
   "cell_type": "markdown",
   "metadata": {},
   "source": [
    "**isinstance和type的区别在于：**\n",
    "\n",
    "- `type()` 不会认为子类是父类类型。\n",
    "- `isinstance()` 会认为子类是父类类型。"
   ]
  },
  {
   "cell_type": "markdown",
   "metadata": {},
   "source": [
    "注意：Python3 中，bool 是 int 的子类，True 和 False 可以和数字相加， True==1、False==0 会返回 True，但可以通过 is 来判断类型。"
   ]
  },
  {
   "cell_type": "raw",
   "metadata": {
    "vscode": {
     "languageId": "powershell"
    }
   },
   "source": [
    ">>> issubclass(bool, int) \n",
    "True\n",
    ">>> True==1\n",
    "True\n",
    ">>> False==0\n",
    "True\n",
    ">>> True+1\n",
    "2\n",
    ">>> False+1\n",
    "1\n",
    ">>> 1 is True\n",
    "False\n",
    ">>> 0 is False\n",
    "False\n"
   ]
  },
  {
   "cell_type": "markdown",
   "metadata": {},
   "source": [
    "## String(字符串)"
   ]
  },
  {
   "cell_type": "markdown",
   "metadata": {},
   "source": [
    "**Python中的字符串用单引号** `'` **或双引号** `\"` **括起，同时使用反斜杠** `\\` **转义特殊字符。**"
   ]
  },
  {
   "cell_type": "code",
   "execution_count": 3,
   "metadata": {},
   "outputs": [
    {
     "name": "stdout",
     "output_type": "stream",
     "text": [
      "Runoob\n",
      "Runoo\n",
      "R\n",
      "noo\n",
      "noob\n",
      "RunoobRunoob\n",
      "RunoobTEST\n"
     ]
    }
   ],
   "source": [
    "#!/usr/bin/python3\n",
    "\n",
    "str = 'Runoob'  # 定义一个字符串变量\n",
    "\n",
    "print(str)           # 打印整个字符串\n",
    "print(str[0:-1])     # 打印字符串第一个到倒数第二个字符（不包含倒数第一个字符）\n",
    "print(str[0])        # 打印字符串的第一个字符\n",
    "print(str[2:5])      # 打印字符串第三到第五个字符（包含第五个字符）\n",
    "print(str[2:])       # 打印字符串从第三个字符开始到末尾\n",
    "print(str * 2)       # 打印字符串两次\n",
    "print(str + \"TEST\")  # 打印字符串和\"TEST\"拼接在一起"
   ]
  },
  {
   "cell_type": "code",
   "execution_count": 4,
   "metadata": {},
   "outputs": [
    {
     "name": "stdout",
     "output_type": "stream",
     "text": [
      "P n\n",
      "n P\n"
     ]
    }
   ],
   "source": [
    "word = 'Python'\n",
    "print(word[0], word[5])\n",
    "\n",
    "print(word[-1], word[-6])\n"
   ]
  },
  {
   "cell_type": "markdown",
   "metadata": {},
   "source": [
    "**与 C 字符串不同的是，Python 字符串不能被改变。向一个索引位置赋值，例如** `word[0] = 'm'` **会导致错误。**\n",
    "\n",
    "**注意：**\n",
    "\n",
    "- 1、反斜杠可以用来转义，使用可以让反斜杠不发生转义。\n",
    "- 2、字符串可以用 `+` 运算符连接在一起，用 `*` 运算符重复。\n",
    "- 3、Python中的字符串有两种索引方式，从左往右以0开始，从右往左以-1开始。\n",
    "- 4、Python中的字符串不能改变。"
   ]
  },
  {
   "cell_type": "markdown",
   "metadata": {},
   "source": [
    "## 布尔类型(bool)"
   ]
  },
  {
   "cell_type": "code",
   "execution_count": 5,
   "metadata": {},
   "outputs": [
    {
     "name": "stdout",
     "output_type": "stream",
     "text": [
      "<class 'bool'>\n",
      "<class 'bool'>\n",
      "1\n",
      "0\n",
      "False\n",
      "True\n",
      "False\n",
      "True\n",
      "False\n",
      "True\n",
      "False\n",
      "True\n",
      "False\n",
      "True\n",
      "True\n",
      "False\n",
      "This will always print\n",
      "This will also always print\n",
      "x is non-zero and thus True in a boolean context\n"
     ]
    }
   ],
   "source": [
    "# 布尔类型的值和类型\n",
    "a = True\n",
    "b = False\n",
    "print(type(a))  # <class 'bool'>\n",
    "print(type(b))  # <class 'bool'>\n",
    "\n",
    "# 布尔类型的整数表现\n",
    "print(int(True))   # 1\n",
    "print(int(False))  # 0\n",
    "\n",
    "# 使用 bool() 函数进行转换\n",
    "print(bool(0))         # False\n",
    "print(bool(42))        # True\n",
    "print(bool(''))        # False\n",
    "print(bool('Python'))  # True\n",
    "print(bool([]))        # False\n",
    "print(bool([1, 2, 3])) # True\n",
    "\n",
    "# 布尔逻辑运算\n",
    "print(True and False)  # False\n",
    "print(True or False)   # True\n",
    "print(not True)        # False\n",
    "\n",
    "# 布尔比较运算\n",
    "print(5 > 3)  # True\n",
    "print(2 == 2) # True\n",
    "print(7 < 4)  # False\n",
    "\n",
    "# 布尔值在控制流中的应用\n",
    "if True:\n",
    "    print(\"This will always print\")\n",
    "    \n",
    "if not False:\n",
    "    print(\"This will also always print\")\n",
    "    \n",
    "x = 10\n",
    "if x:\n",
    "    print(\"x is non-zero and thus True in a boolean context\")"
   ]
  },
  {
   "cell_type": "markdown",
   "metadata": {},
   "source": [
    "**注意：在 Python 中，所有非零的数字和非空的字符串、列表、元组等数据类型都被视为** `True` **，只有** `0` **、空字符串、空列表、空元组等被视为** `False`**。因此，在进行布尔类型转换时，需要注意数据类型的真假性。**"
   ]
  },
  {
   "cell_type": "markdown",
   "metadata": {},
   "source": [
    "## 列表"
   ]
  },
  {
   "cell_type": "markdown",
   "metadata": {},
   "source": [
    "![image](images/image.png)"
   ]
  },
  {
   "cell_type": "code",
   "execution_count": 1,
   "metadata": {},
   "outputs": [
    {
     "name": "stdout",
     "output_type": "stream",
     "text": [
      "['abcd', 786, 2.23, 'runoob', 70.2]\n",
      "abcd\n",
      "[786, 2.23]\n",
      "[2.23, 'runoob', 70.2]\n",
      "[123, 'runoob', 123, 'runoob']\n",
      "['abcd', 786, 2.23, 'runoob', 70.2, 123, 'runoob']\n"
     ]
    }
   ],
   "source": [
    "#!/usr/bin/python3\n",
    "\n",
    "list = [ 'abcd', 786 , 2.23, 'runoob', 70.2 ]  # 定义一个列表\n",
    "tinylist = [123, 'runoob']\n",
    "\n",
    "print (list)            # 打印整个列表\n",
    "print (list[0])         # 打印列表的第一个元素\n",
    "print (list[1:3])       # 打印列表第二到第四个元素（不包含第四个元素）\n",
    "print (list[2:])        # 打印列表从第三个元素开始到末尾\n",
    "print (tinylist * 2)    # 打印tinylist列表两次\n",
    "print (list + tinylist)  # 打印两个列表拼接在一起的结果"
   ]
  },
  {
   "cell_type": "markdown",
   "metadata": {},
   "source": [
    "- 与python字符串不一样的是：列表中的元素是可以进行更改的"
   ]
  },
  {
   "cell_type": "code",
   "execution_count": null,
   "metadata": {},
   "outputs": [
    {
     "data": {
      "text/plain": [
       "[9, 2, 6]"
      ]
     },
     "execution_count": 4,
     "metadata": {},
     "output_type": "execute_result"
    }
   ],
   "source": [
    "a = [1, 2, 3, 4, 5, 6]\n",
    "a[0] = 9\n",
    "a[2:5] = [13, 14, 15]\n",
    "[9, 2, 13, 14, 15, 6]\n",
    "# 将对应的元素值设置为 []，也就是空列表\n",
    "a[2:5] = []   # 将对应的元素值设置为 [] \n",
    "a"
   ]
  },
  {
   "cell_type": "code",
   "execution_count": null,
   "metadata": {},
   "outputs": [
    {
     "data": {
      "text/plain": [
       "['b', 'd']"
      ]
     },
     "execution_count": 5,
     "metadata": {},
     "output_type": "execute_result"
    }
   ],
   "source": [
    "letters = ['a', 'b', 'c', 'd', 'e', 'f', 'g']\n",
    "# 从第二个元素到第五个元素，步长为2\n",
    "letters[1:4:2]  # ['b', 'd']"
   ]
  },
  {
   "cell_type": "code",
   "execution_count": 6,
   "metadata": {},
   "outputs": [
    {
     "name": "stdout",
     "output_type": "stream",
     "text": [
      "runoob like I\n"
     ]
    }
   ],
   "source": [
    "def reverseWords(input): \n",
    "      \n",
    "    # 通过空格将字符串分隔符，把各个单词分隔为列表\n",
    "    inputWords = input.split(\" \") \n",
    "  \n",
    "    # 翻转字符串\n",
    "    # 假设列表 list = [1,2,3,4],  \n",
    "    # list[0]=1, list[1]=2 ，而 -1 表示最后一个元素 list[-1]=4 ( 与 list[3]=4 一样) \n",
    "    # inputWords[-1::-1] 有三个参数\n",
    "    # 第一个参数 -1 表示最后一个元素\n",
    "    # 第二个参数为空，表示移动到列表末尾\n",
    "    # 第三个参数为步长，-1 表示逆向\n",
    "    inputWords=inputWords[-1::-1] \n",
    "  \n",
    "    # 重新组合字符串\n",
    "    output = ' '.join(inputWords) \n",
    "      \n",
    "    return output \n",
    "  \n",
    "if __name__ == \"__main__\": \n",
    "    input = 'I like runoob'\n",
    "    rw = reverseWords(input) \n",
    "    print(rw)"
   ]
  },
  {
   "cell_type": "markdown",
   "metadata": {},
   "source": [
    "## 元组(Tuple)"
   ]
  },
  {
   "cell_type": "markdown",
   "metadata": {},
   "source": [
    "元组（tuple）与列表类似，不同之处在于`元组的元素不能修改`。元组写在小括号 () 里，元素之间用逗号隔开。\n",
    "\n",
    "元组中的元素类型也可以不相同："
   ]
  },
  {
   "cell_type": "code",
   "execution_count": 7,
   "metadata": {},
   "outputs": [
    {
     "name": "stdout",
     "output_type": "stream",
     "text": [
      "('abcd', 786, 2.23, 'runoob', 70.2)\n",
      "abcd\n",
      "(786, 2.23)\n",
      "(2.23, 'runoob', 70.2)\n",
      "(123, 'runoob', 123, 'runoob')\n",
      "('abcd', 786, 2.23, 'runoob', 70.2, 123, 'runoob')\n"
     ]
    }
   ],
   "source": [
    "#!/usr/bin/python3\n",
    "\n",
    "tuple = ( 'abcd', 786 , 2.23, 'runoob', 70.2  )\n",
    "tinytuple = (123, 'runoob')\n",
    "\n",
    "print (tuple)             # 输出完整元组\n",
    "print (tuple[0])          # 输出元组的第一个元素\n",
    "print (tuple[1:3])        # 输出从第二个元素开始到第三个元素\n",
    "print (tuple[2:])         # 输出从第三个元素开始的所有元素\n",
    "print (tinytuple * 2)     # 输出两次元组\n",
    "print (tuple + tinytuple) # 连接元组"
   ]
  },
  {
   "cell_type": "markdown",
   "metadata": {},
   "source": [
    "- 创建一个只有单元素的元组，要增加一个逗号"
   ]
  },
  {
   "cell_type": "code",
   "execution_count": null,
   "metadata": {},
   "outputs": [],
   "source": [
    "tup1 = ()    # 空元组\n",
    "tup2 = (20,) # 一个元素，需要在元素后添加逗号\n"
   ]
  },
  {
   "cell_type": "markdown",
   "metadata": {},
   "source": [
    "**1、与字符串一样，元组的元素是不能修改的。**\n",
    "\n",
    "**2、元组也可以被索引和切片，方法一样。**\n",
    "\n",
    "**3、注意构造包含 0 或 1 个元素的元组的特殊语法规则。**\n",
    "\n",
    "**4、元组也可以使用** `+` **操作符进行拼接。**"
   ]
  },
  {
   "cell_type": "markdown",
   "metadata": {},
   "source": [
    "## 集合(Set)"
   ]
  },
  {
   "cell_type": "code",
   "execution_count": 8,
   "metadata": {},
   "outputs": [
    {
     "name": "stdout",
     "output_type": "stream",
     "text": [
      "{'Google', 'Facebook', 'Taobao', 'Baidu', 'Zhihu', 'Runoob'}\n",
      "Runoob 在集合中\n",
      "{'a', 'r', 'c', 'b', 'd'}\n",
      "{'r', 'b', 'd'}\n",
      "{'a', 'r', 'l', 'z', 'm', 'c', 'b', 'd'}\n",
      "{'a', 'c'}\n",
      "{'z', 'd', 'r', 'm', 'b', 'l'}\n"
     ]
    }
   ],
   "source": [
    "#!/usr/bin/python3\n",
    "\n",
    "sites = {'Google', 'Taobao', 'Runoob', 'Facebook', 'Zhihu', 'Baidu'}\n",
    "\n",
    "print(sites)   # 输出集合，重复的元素被自动去掉\n",
    "\n",
    "# 成员测试\n",
    "if 'Runoob' in sites :\n",
    "    print('Runoob 在集合中')\n",
    "else :\n",
    "    print('Runoob 不在集合中')\n",
    "\n",
    "\n",
    "# set可以进行集合运算\n",
    "a = set('abracadabra')\n",
    "b = set('alacazam')\n",
    "\n",
    "print(a)\n",
    "\n",
    "print(a - b)     # a 和 b 的差集\n",
    "\n",
    "print(a | b)     # a 和 b 的并集\n",
    "\n",
    "print(a & b)     # a 和 b 的交集\n",
    "\n",
    "print(a ^ b)     # a 和 b 中不同时存在的元素"
   ]
  },
  {
   "cell_type": "markdown",
   "metadata": {},
   "source": [
    "## Dictionary(字典)"
   ]
  },
  {
   "cell_type": "markdown",
   "metadata": {},
   "source": [
    "**字典是一种映射类型**\n",
    "\n",
    "- 字典用 { } 标识，它是一个无序的 键(key) : 值(value) 的集合。\n",
    "- 同一个字典中，键是唯一的"
   ]
  },
  {
   "cell_type": "code",
   "execution_count": 9,
   "metadata": {},
   "outputs": [
    {
     "name": "stdout",
     "output_type": "stream",
     "text": [
      "1 - 菜鸟教程\n",
      "2 - 菜鸟工具\n",
      "{'name': 'runoob', 'code': 1, 'site': 'www.runoob.com'}\n",
      "dict_keys(['name', 'code', 'site'])\n",
      "dict_values(['runoob', 1, 'www.runoob.com'])\n"
     ]
    }
   ],
   "source": [
    "#!/usr/bin/python3\n",
    "\n",
    "dict = {}\n",
    "dict['one'] = \"1 - 菜鸟教程\"\n",
    "dict[2]     = \"2 - 菜鸟工具\"\n",
    "\n",
    "tinydict = {'name': 'runoob','code':1, 'site': 'www.runoob.com'}\n",
    "\n",
    "\n",
    "print (dict['one'])       # 输出键为 'one' 的值\n",
    "print (dict[2])           # 输出键为 2 的值\n",
    "print (tinydict)          # 输出完整的字典\n",
    "print (tinydict.keys())   # 输出所有键\n",
    "print (tinydict.values()) # 输出所有值"
   ]
  },
  {
   "cell_type": "markdown",
   "metadata": {},
   "source": [
    "## bytes类型"
   ]
  },
  {
   "cell_type": "markdown",
   "metadata": {},
   "source": [
    "在 Python3 中，**bytes** 类型表示的是不可变的二进制序列（byte sequence）。\n",
    "\n",
    "与字符串类型不同的是，**bytes** 类型中的元素是整数（0 到 255 之间的整数），而不是 Unicode 字符。\n",
    "\n",
    "**bytes** 类型通常用于处理二进制数据，比如图像文件、音频文件、视频文件等。在网络编程中，也经常使用 **bytes** 类型来传输二进制数据。"
   ]
  },
  {
   "cell_type": "code",
   "execution_count": null,
   "metadata": {},
   "outputs": [
    {
     "name": "stdout",
     "output_type": "stream",
     "text": [
      "The first element is 'h'\n"
     ]
    }
   ],
   "source": [
    "x = b\"hello\"\n",
    "if x[0] == ord(\"h\"):\n",
    "    print(\"The first element is 'h'\")\n",
    "\n",
    "# 其中 ord() 函数是将字符转换为整数，chr() 函数是将整数转换为字符。"
   ]
  }
 ],
 "metadata": {
  "kernelspec": {
   "display_name": "Python 3",
   "language": "python",
   "name": "python3"
  },
  "language_info": {
   "codemirror_mode": {
    "name": "ipython",
    "version": 3
   },
   "file_extension": ".py",
   "mimetype": "text/x-python",
   "name": "python",
   "nbconvert_exporter": "python",
   "pygments_lexer": "ipython3",
   "version": "3.13.0"
  }
 },
 "nbformat": 4,
 "nbformat_minor": 2
}
