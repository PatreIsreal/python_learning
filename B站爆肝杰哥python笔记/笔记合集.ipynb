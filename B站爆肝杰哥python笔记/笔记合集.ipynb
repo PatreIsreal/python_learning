{
 "cells": [
  {
   "cell_type": "markdown",
   "metadata": {},
   "source": [
    "### 高级变量类型的小知识点"
   ]
  },
  {
   "cell_type": "markdown",
   "metadata": {},
   "source": [
    "- 往列表中遍历增加元素"
   ]
  },
  {
   "cell_type": "code",
   "execution_count": null,
   "metadata": {},
   "outputs": [
    {
     "name": "stdout",
     "output_type": "stream",
     "text": [
      "[1, 4, 9, 16, 25]\n"
     ]
    }
   ],
   "source": [
    "# 求平方-循环\n",
    "value = []\n",
    "#这里不是累加求和，而是将平方值添加到列表中\n",
    "for i in [1, 2, 3, 4, 5]:\n",
    "    value = value + [i ** 2]\n",
    "print(value)"
   ]
  },
  {
   "cell_type": "markdown",
   "metadata": {},
   "source": [
    "- 也可以用列表推导式来写"
   ]
  },
  {
   "cell_type": "code",
   "execution_count": 2,
   "metadata": {},
   "outputs": [
    {
     "name": "stdout",
     "output_type": "stream",
     "text": [
      "[1, 4, 9, 16, 25]\n"
     ]
    }
   ],
   "source": [
    "value = [i ** 2 for i in [1, 2, 3, 4, 5]]\n",
    "print(value)"
   ]
  },
  {
   "cell_type": "markdown",
   "metadata": {},
   "source": [
    "### 类\n",
    "\n",
    "- 类的本质：在一堆函数之间传递参数\n",
    "\n",
    "- 类的名称需要首字母大写\n",
    "\n",
    "- 类中的函数叫方法\n",
    "    - 一个类包含一个__init__方法和很多自定义方法"
   ]
  },
  {
   "cell_type": "code",
   "execution_count": null,
   "metadata": {},
   "outputs": [],
   "source": [
    "# 一个类的示范\n",
    "class Counter:\n",
    "    '''一台可以加减的计算器'''# 文档字符串\n",
    "\n",
    "    def __init__(self, a, b):\n",
    "        '''a和b是公共变量，也是self的属性'''\n",
    "        self.a = a\n",
    "        self.b = b\n",
    "\n",
    "    def add(self):\n",
    "        '''加法'''\n",
    "        return self.a + self.b\n",
    "    \n",
    "    def sub(self):\n",
    "        '''减法'''\n",
    "        return self.a - self.b"
   ]
  },
  {
   "cell_type": "markdown",
   "metadata": {},
   "source": [
    "**对类的理解**\n",
    "- 函数内部的变量和外部是两个空间的，使自定义方法能够在类里互通，我们定义一个self作为船，将需要互通的变量作为self的属性进行传递\n",
    "\n",
    "- 所以，特殊方法__init__的作用就是使用船载体self来承载公共变量a和b"
   ]
  },
  {
   "cell_type": "markdown",
   "metadata": {},
   "source": [
    "**属性的默认值**\n",
    "- 属性即是公共变量，例如上个例子中的a和b\n",
    "\n",
    "- 但是我们可以给self的属性一个默认值，不用写进__init__后面的括号里\n",
    ">而且该默认值也可以随时更改"
   ]
  },
  {
   "cell_type": "markdown",
   "metadata": {},
   "source": [
    "**继承**\n",
    "\n",
    "- 使用super()函数，可以继承父类中的全部属性和方法\n",
    "  - 还可以自己再添加方法\n",
    "\n",
    "- class 类名(父类名)"
   ]
  },
  {
   "cell_type": "markdown",
   "metadata": {},
   "source": [
    "**掠夺**\n",
    "\n",
    "- 添加代码`self.cnt = 类名(c, d)`\n",
    "\n",
    "- 在自己的方法本身掠夺其他类的方法\n",
    "\n",
    "- 添加在`__init__`方法的最下边\n",
    "\n",
    "- 掠夺的本质是将另一类的实例当作self的属性来用，所用就是第一条的在`__init__`中添加代码\n"
   ]
  },
  {
   "cell_type": "code",
   "execution_count": null,
   "metadata": {},
   "outputs": [],
   "source": [
    "# 运行时的写法\n",
    "print(test.cnt.add()) #其中test时新类，add是抢来的方法"
   ]
  }
 ],
 "metadata": {
  "kernelspec": {
   "display_name": "Python 3",
   "language": "python",
   "name": "python3"
  },
  "language_info": {
   "codemirror_mode": {
    "name": "ipython",
    "version": 3
   },
   "file_extension": ".py",
   "mimetype": "text/x-python",
   "name": "python",
   "nbconvert_exporter": "python",
   "pygments_lexer": "ipython3",
   "version": "3.13.0"
  }
 },
 "nbformat": 4,
 "nbformat_minor": 2
}
