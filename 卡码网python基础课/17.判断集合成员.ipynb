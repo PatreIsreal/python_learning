{
 "cells": [
  {
   "cell_type": "markdown",
   "metadata": {},
   "source": [
    "哈希表的主要作用是判断给定的整数是否存在于给定的数据中"
   ]
  },
  {
   "cell_type": "markdown",
   "metadata": {},
   "source": [
    "- 通常使用的数据结构是**数组、集合和映射**\n",
    ">上一个代码是数组实现方法，这个是集合，下一个是map映射\n",
    "\n",
    "**这次使用set集合来作为哈希表**\n"
   ]
  },
  {
   "cell_type": "markdown",
   "metadata": {},
   "source": [
    "1. 集合用来存储一组不重复的元素，并且不保证元素的顺序\n",
    "2. 可以用大括号来创建集合：my_set = {1, 2, 3}\n",
    "3. 最常见的用法是判断某个元素是否在集合中和去除集合中的重复元素。"
   ]
  },
  {
   "cell_type": "markdown",
   "metadata": {},
   "source": [
    "### 集合的增删和遍历操作\n"
   ]
  },
  {
   "cell_type": "markdown",
   "metadata": {},
   "source": [
    "1. **添加元素**：使用`add()`方法可以向集合中添加单个元素。\n",
    "2. **移除元素**：使用`remove()`或`discard()`方法可以从集合中移除指定元素，它们之间的区别在于当移除一个集合中不存在的元素时，`remove()`会引起异常，而`discard()`不会。\n",
    "3. **集合长度**：使用`len()`函数可以获取集合的元素个数。\n",
    "4. **清空集合**：使用`clear()`方法可以清空集合中的所有元素。\n",
    "5. **遍历集合**：使用`for`循环可以遍历集合中的元素。"
   ]
  },
  {
   "cell_type": "code",
   "execution_count": null,
   "metadata": {},
   "outputs": [],
   "source": [
    "# 创建集合\n",
    "set1 = {1, 2, 3}\n",
    "\n",
    "# 向集合添加元素\n",
    "set1.add(4)\n",
    "\n",
    "# 遍历集合\n",
    "for element in set1:\n",
    "      print(element)\n",
    "    \n",
    "# 移除集合元素\n",
    "set1.remove(3)\n",
    "\n",
    "# 获取集合长度\n",
    "print(len(set1))\n",
    "\n",
    "# 清空集合中的元素\n",
    "set1.clear()"
   ]
  },
  {
   "cell_type": "code",
   "execution_count": null,
   "metadata": {},
   "outputs": [],
   "source": [
    "# 完整代码实现-很简单\n",
    "# 输入的行数\n",
    "k = int(input())\n",
    "for _ in range(k):\n",
    "    m = int(input())\n",
    "    # 类似于列表的读取，这里创建集合\n",
    "    # 读取方法一样，将其拆分\n",
    "    numbers = set(map(int, input().split()))\n",
    "    # 读取需要判断的目标数字\n",
    "\n",
    "    n = int(input())\n",
    "\n",
    "    if n in numbers:\n",
    "        print(\"Yes\")\n",
    "    else:\n",
    "        print(\"no\")"
   ]
  }
 ],
 "metadata": {
  "kernelspec": {
   "display_name": "Python 3",
   "language": "python",
   "name": "python3"
  },
  "language_info": {
   "name": "python",
   "version": "3.13.0"
  }
 },
 "nbformat": 4,
 "nbformat_minor": 2
}
